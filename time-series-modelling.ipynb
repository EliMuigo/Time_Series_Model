{
 "cells": [
  {
   "cell_type": "code",
   "execution_count": 1,
   "id": "0fb2565c",
   "metadata": {
    "_cell_guid": "b1076dfc-b9ad-4769-8c92-a6c4dae69d19",
    "_uuid": "8f2839f25d086af736a60e9eeb907d3b93b6e0e5",
    "execution": {
     "iopub.execute_input": "2023-10-30T05:20:21.383283Z",
     "iopub.status.busy": "2023-10-30T05:20:21.382465Z",
     "iopub.status.idle": "2023-10-30T05:20:22.178172Z",
     "shell.execute_reply": "2023-10-30T05:20:22.177318Z"
    },
    "papermill": {
     "duration": 0.806569,
     "end_time": "2023-10-30T05:20:22.180534",
     "exception": false,
     "start_time": "2023-10-30T05:20:21.373965",
     "status": "completed"
    },
    "tags": []
   },
   "outputs": [
    {
     "name": "stdout",
     "output_type": "stream",
     "text": [
      "/kaggle/input/craigslist-vehicles/craigslist_vehicles.csv\n"
     ]
    }
   ],
   "source": [
    "# This Python 3 environment comes with many helpful analytics libraries installed\n",
    "# It is defined by the kaggle/python Docker image: https://github.com/kaggle/docker-python\n",
    "# For example, here's several helpful packages to load\n",
    "\n",
    "import numpy as np # linear algebra\n",
    "import pandas as pd # data processing, CSV file I/O (e.g. pd.read_csv)\n",
    "\n",
    "# Input data files are available in the read-only \"../input/\" directory\n",
    "# For example, running this (by clicking run or pressing Shift+Enter) will list all files under the input directory\n",
    "\n",
    "import os\n",
    "for dirname, _, filenames in os.walk('/kaggle/input'):\n",
    "    for filename in filenames:\n",
    "        print(os.path.join(dirname, filename))\n",
    "\n",
    "# You can write up to 20GB to the current directory (/kaggle/working/) that gets preserved as output when you create a version using \"Save & Run All\" \n",
    "# You can also write temporary files to /kaggle/temp/, but they won't be saved outside of the current session"
   ]
  },
  {
   "cell_type": "code",
   "execution_count": 2,
   "id": "c22b899d",
   "metadata": {
    "execution": {
     "iopub.execute_input": "2023-10-30T05:20:22.195914Z",
     "iopub.status.busy": "2023-10-30T05:20:22.195539Z",
     "iopub.status.idle": "2023-10-30T05:23:02.818364Z",
     "shell.execute_reply": "2023-10-30T05:23:02.817207Z"
    },
    "papermill": {
     "duration": 160.63894,
     "end_time": "2023-10-30T05:23:02.826573",
     "exception": false,
     "start_time": "2023-10-30T05:20:22.187633",
     "status": "completed"
    },
    "tags": []
   },
   "outputs": [
    {
     "name": "stdout",
     "output_type": "stream",
     "text": [
      "Requirement already satisfied: numpy in /opt/conda/lib/python3.10/site-packages (1.23.5)\r\n",
      "\u001b[33mWARNING: Retrying (Retry(total=4, connect=None, read=None, redirect=None, status=None)) after connection broken by 'NewConnectionError('<pip._vendor.urllib3.connection.HTTPSConnection object at 0x7f63f8c06650>: Failed to establish a new connection: [Errno -3] Temporary failure in name resolution')': /simple/numpy/\u001b[0m\u001b[33m\r\n",
      "\u001b[0m\u001b[33mWARNING: Retrying (Retry(total=3, connect=None, read=None, redirect=None, status=None)) after connection broken by 'NewConnectionError('<pip._vendor.urllib3.connection.HTTPSConnection object at 0x7f63f8c06980>: Failed to establish a new connection: [Errno -3] Temporary failure in name resolution')': /simple/numpy/\u001b[0m\u001b[33m\r\n",
      "\u001b[0m\u001b[33mWARNING: Retrying (Retry(total=2, connect=None, read=None, redirect=None, status=None)) after connection broken by 'NewConnectionError('<pip._vendor.urllib3.connection.HTTPSConnection object at 0x7f63f8c06ce0>: Failed to establish a new connection: [Errno -3] Temporary failure in name resolution')': /simple/numpy/\u001b[0m\u001b[33m\r\n",
      "\u001b[0m\u001b[33mWARNING: Retrying (Retry(total=1, connect=None, read=None, redirect=None, status=None)) after connection broken by 'NewConnectionError('<pip._vendor.urllib3.connection.HTTPSConnection object at 0x7f63f8c06e90>: Failed to establish a new connection: [Errno -3] Temporary failure in name resolution')': /simple/numpy/\u001b[0m\u001b[33m\r\n",
      "\u001b[0m\u001b[33mWARNING: Retrying (Retry(total=0, connect=None, read=None, redirect=None, status=None)) after connection broken by 'NewConnectionError('<pip._vendor.urllib3.connection.HTTPSConnection object at 0x7f63f8c07040>: Failed to establish a new connection: [Errno -3] Temporary failure in name resolution')': /simple/numpy/\u001b[0m\u001b[33m\r\n",
      "\u001b[0mNote: you may need to restart the kernel to use updated packages.\n"
     ]
    }
   ],
   "source": [
    "pip install --upgrade numpy\n"
   ]
  },
  {
   "cell_type": "code",
   "execution_count": 3,
   "id": "5b91ebb9",
   "metadata": {
    "execution": {
     "iopub.execute_input": "2023-10-30T05:23:02.842913Z",
     "iopub.status.busy": "2023-10-30T05:23:02.842579Z",
     "iopub.status.idle": "2023-10-30T05:23:03.200785Z",
     "shell.execute_reply": "2023-10-30T05:23:03.199874Z"
    },
    "papermill": {
     "duration": 0.369125,
     "end_time": "2023-10-30T05:23:03.202965",
     "exception": false,
     "start_time": "2023-10-30T05:23:02.833840",
     "status": "completed"
    },
    "tags": []
   },
   "outputs": [
    {
     "name": "stderr",
     "output_type": "stream",
     "text": [
      "/opt/conda/lib/python3.10/site-packages/scipy/__init__.py:146: UserWarning: A NumPy version >=1.16.5 and <1.23.0 is required for this version of SciPy (detected version 1.23.5\n",
      "  warnings.warn(f\"A NumPy version >={np_minversion} and <{np_maxversion}\"\n"
     ]
    }
   ],
   "source": [
    "import warnings\n",
    "import matplotlib.pyplot as plt\n",
    "%matplotlib inline \n",
    "warnings.filterwarnings('ignore', category=FutureWarning)\n",
    "from statsmodels.tsa.arima_model import ARIMA"
   ]
  },
  {
   "cell_type": "code",
   "execution_count": 4,
   "id": "c26e63b2",
   "metadata": {
    "execution": {
     "iopub.execute_input": "2023-10-30T05:23:03.219581Z",
     "iopub.status.busy": "2023-10-30T05:23:03.219313Z",
     "iopub.status.idle": "2023-10-30T05:23:41.186763Z",
     "shell.execute_reply": "2023-10-30T05:23:41.185681Z"
    },
    "papermill": {
     "duration": 37.978476,
     "end_time": "2023-10-30T05:23:41.189310",
     "exception": false,
     "start_time": "2023-10-30T05:23:03.210834",
     "status": "completed"
    },
    "tags": []
   },
   "outputs": [],
   "source": [
    "#load the dataset\n",
    "dataset=pd.read_csv('/kaggle/input/craigslist-vehicles/craigslist_vehicles.csv')"
   ]
  },
  {
   "cell_type": "code",
   "execution_count": 5,
   "id": "e33cba4d",
   "metadata": {
    "execution": {
     "iopub.execute_input": "2023-10-30T05:23:41.206758Z",
     "iopub.status.busy": "2023-10-30T05:23:41.206459Z",
     "iopub.status.idle": "2023-10-30T05:23:41.213963Z",
     "shell.execute_reply": "2023-10-30T05:23:41.212986Z"
    },
    "papermill": {
     "duration": 0.018781,
     "end_time": "2023-10-30T05:23:41.216128",
     "exception": false,
     "start_time": "2023-10-30T05:23:41.197347",
     "status": "completed"
    },
    "tags": []
   },
   "outputs": [
    {
     "data": {
      "text/plain": [
       "(426880, 28)"
      ]
     },
     "execution_count": 5,
     "metadata": {},
     "output_type": "execute_result"
    }
   ],
   "source": [
    "dataset.shape # number of rows and columns"
   ]
  },
  {
   "cell_type": "code",
   "execution_count": 6,
   "id": "630744f6",
   "metadata": {
    "execution": {
     "iopub.execute_input": "2023-10-30T05:23:41.233270Z",
     "iopub.status.busy": "2023-10-30T05:23:41.232948Z",
     "iopub.status.idle": "2023-10-30T05:23:41.271849Z",
     "shell.execute_reply": "2023-10-30T05:23:41.270882Z"
    },
    "papermill": {
     "duration": 0.049943,
     "end_time": "2023-10-30T05:23:41.274026",
     "exception": false,
     "start_time": "2023-10-30T05:23:41.224083",
     "status": "completed"
    },
    "tags": []
   },
   "outputs": [
    {
     "data": {
      "text/html": [
       "<div>\n",
       "<style scoped>\n",
       "    .dataframe tbody tr th:only-of-type {\n",
       "        vertical-align: middle;\n",
       "    }\n",
       "\n",
       "    .dataframe tbody tr th {\n",
       "        vertical-align: top;\n",
       "    }\n",
       "\n",
       "    .dataframe thead th {\n",
       "        text-align: right;\n",
       "    }\n",
       "</style>\n",
       "<table border=\"1\" class=\"dataframe\">\n",
       "  <thead>\n",
       "    <tr style=\"text-align: right;\">\n",
       "      <th></th>\n",
       "      <th>Unnamed: 0</th>\n",
       "      <th>id</th>\n",
       "      <th>url</th>\n",
       "      <th>region</th>\n",
       "      <th>region_url</th>\n",
       "      <th>price</th>\n",
       "      <th>year</th>\n",
       "      <th>manufacturer</th>\n",
       "      <th>model</th>\n",
       "      <th>condition</th>\n",
       "      <th>...</th>\n",
       "      <th>type</th>\n",
       "      <th>paint_color</th>\n",
       "      <th>image_url</th>\n",
       "      <th>description</th>\n",
       "      <th>county</th>\n",
       "      <th>state</th>\n",
       "      <th>lat</th>\n",
       "      <th>long</th>\n",
       "      <th>posting_date</th>\n",
       "      <th>removal_date</th>\n",
       "    </tr>\n",
       "  </thead>\n",
       "  <tbody>\n",
       "    <tr>\n",
       "      <th>0</th>\n",
       "      <td>362773</td>\n",
       "      <td>7307679724</td>\n",
       "      <td>https://abilene.craigslist.org/ctd/d/abilene-2...</td>\n",
       "      <td>abilene</td>\n",
       "      <td>https://abilene.craigslist.org</td>\n",
       "      <td>4500</td>\n",
       "      <td>2002.0</td>\n",
       "      <td>bmw</td>\n",
       "      <td>x5</td>\n",
       "      <td>NaN</td>\n",
       "      <td>...</td>\n",
       "      <td>NaN</td>\n",
       "      <td>NaN</td>\n",
       "      <td>https://images.craigslist.org/00m0m_iba78h8ty9...</td>\n",
       "      <td>$4,500 Cash  2002 BMW X5  8 cylinder 4.4L moto...</td>\n",
       "      <td>NaN</td>\n",
       "      <td>tx</td>\n",
       "      <td>32.401556</td>\n",
       "      <td>-99.884713</td>\n",
       "      <td>2021-04-16 00:00:00+00:00</td>\n",
       "      <td>2021-05-02 00:00:00+00:00</td>\n",
       "    </tr>\n",
       "    <tr>\n",
       "      <th>1</th>\n",
       "      <td>362712</td>\n",
       "      <td>7311833696</td>\n",
       "      <td>https://abilene.craigslist.org/ctd/d/abilene-2...</td>\n",
       "      <td>abilene</td>\n",
       "      <td>https://abilene.craigslist.org</td>\n",
       "      <td>4500</td>\n",
       "      <td>2002.0</td>\n",
       "      <td>bmw</td>\n",
       "      <td>x5</td>\n",
       "      <td>NaN</td>\n",
       "      <td>...</td>\n",
       "      <td>NaN</td>\n",
       "      <td>NaN</td>\n",
       "      <td>https://images.craigslist.org/00m0m_iba78h8ty9...</td>\n",
       "      <td>$4,500 Cash  2002 BMW X5  8 cylinder 4.4L moto...</td>\n",
       "      <td>NaN</td>\n",
       "      <td>tx</td>\n",
       "      <td>32.401556</td>\n",
       "      <td>-99.884713</td>\n",
       "      <td>2021-04-24 00:00:00+00:00</td>\n",
       "      <td>2021-04-28 00:00:00+00:00</td>\n",
       "    </tr>\n",
       "    <tr>\n",
       "      <th>2</th>\n",
       "      <td>362722</td>\n",
       "      <td>7311441996</td>\n",
       "      <td>https://abilene.craigslist.org/ctd/d/abilene-2...</td>\n",
       "      <td>abilene</td>\n",
       "      <td>https://abilene.craigslist.org</td>\n",
       "      <td>4900</td>\n",
       "      <td>2006.0</td>\n",
       "      <td>toyota</td>\n",
       "      <td>camry</td>\n",
       "      <td>excellent</td>\n",
       "      <td>...</td>\n",
       "      <td>sedan</td>\n",
       "      <td>silver</td>\n",
       "      <td>https://images.craigslist.org/00808_5FkOw2aGjA...</td>\n",
       "      <td>2006 TOYOTA CAMRY LE Sedan   Ready To Upgrade ...</td>\n",
       "      <td>NaN</td>\n",
       "      <td>tx</td>\n",
       "      <td>32.453848</td>\n",
       "      <td>-99.787900</td>\n",
       "      <td>2021-04-23 00:00:00+00:00</td>\n",
       "      <td>2021-05-25 00:00:00+00:00</td>\n",
       "    </tr>\n",
       "    <tr>\n",
       "      <th>3</th>\n",
       "      <td>362771</td>\n",
       "      <td>7307680715</td>\n",
       "      <td>https://abilene.craigslist.org/ctd/d/abilene-2...</td>\n",
       "      <td>abilene</td>\n",
       "      <td>https://abilene.craigslist.org</td>\n",
       "      <td>6500</td>\n",
       "      <td>2008.0</td>\n",
       "      <td>ford</td>\n",
       "      <td>expedition</td>\n",
       "      <td>NaN</td>\n",
       "      <td>...</td>\n",
       "      <td>NaN</td>\n",
       "      <td>NaN</td>\n",
       "      <td>https://images.craigslist.org/00M0M_i9CoFvVq8o...</td>\n",
       "      <td>$6500.00 2008 Ford Expedition  8 cylinder 5.4L...</td>\n",
       "      <td>NaN</td>\n",
       "      <td>tx</td>\n",
       "      <td>32.401556</td>\n",
       "      <td>-99.884713</td>\n",
       "      <td>2021-04-16 00:00:00+00:00</td>\n",
       "      <td>2021-04-26 00:00:00+00:00</td>\n",
       "    </tr>\n",
       "    <tr>\n",
       "      <th>4</th>\n",
       "      <td>362710</td>\n",
       "      <td>7311834578</td>\n",
       "      <td>https://abilene.craigslist.org/ctd/d/abilene-2...</td>\n",
       "      <td>abilene</td>\n",
       "      <td>https://abilene.craigslist.org</td>\n",
       "      <td>6500</td>\n",
       "      <td>2008.0</td>\n",
       "      <td>ford</td>\n",
       "      <td>expedition</td>\n",
       "      <td>NaN</td>\n",
       "      <td>...</td>\n",
       "      <td>NaN</td>\n",
       "      <td>NaN</td>\n",
       "      <td>https://images.craigslist.org/00M0M_i9CoFvVq8o...</td>\n",
       "      <td>$6500.00 2008 Ford Expedition  8 cylinder 5.4L...</td>\n",
       "      <td>NaN</td>\n",
       "      <td>tx</td>\n",
       "      <td>32.401556</td>\n",
       "      <td>-99.884713</td>\n",
       "      <td>2021-04-24 00:00:00+00:00</td>\n",
       "      <td>2021-05-12 00:00:00+00:00</td>\n",
       "    </tr>\n",
       "  </tbody>\n",
       "</table>\n",
       "<p>5 rows × 28 columns</p>\n",
       "</div>"
      ],
      "text/plain": [
       "   Unnamed: 0          id                                                url  \\\n",
       "0      362773  7307679724  https://abilene.craigslist.org/ctd/d/abilene-2...   \n",
       "1      362712  7311833696  https://abilene.craigslist.org/ctd/d/abilene-2...   \n",
       "2      362722  7311441996  https://abilene.craigslist.org/ctd/d/abilene-2...   \n",
       "3      362771  7307680715  https://abilene.craigslist.org/ctd/d/abilene-2...   \n",
       "4      362710  7311834578  https://abilene.craigslist.org/ctd/d/abilene-2...   \n",
       "\n",
       "    region                      region_url  price    year manufacturer  \\\n",
       "0  abilene  https://abilene.craigslist.org   4500  2002.0          bmw   \n",
       "1  abilene  https://abilene.craigslist.org   4500  2002.0          bmw   \n",
       "2  abilene  https://abilene.craigslist.org   4900  2006.0       toyota   \n",
       "3  abilene  https://abilene.craigslist.org   6500  2008.0         ford   \n",
       "4  abilene  https://abilene.craigslist.org   6500  2008.0         ford   \n",
       "\n",
       "        model  condition  ...   type paint_color  \\\n",
       "0          x5        NaN  ...    NaN         NaN   \n",
       "1          x5        NaN  ...    NaN         NaN   \n",
       "2       camry  excellent  ...  sedan      silver   \n",
       "3  expedition        NaN  ...    NaN         NaN   \n",
       "4  expedition        NaN  ...    NaN         NaN   \n",
       "\n",
       "                                           image_url  \\\n",
       "0  https://images.craigslist.org/00m0m_iba78h8ty9...   \n",
       "1  https://images.craigslist.org/00m0m_iba78h8ty9...   \n",
       "2  https://images.craigslist.org/00808_5FkOw2aGjA...   \n",
       "3  https://images.craigslist.org/00M0M_i9CoFvVq8o...   \n",
       "4  https://images.craigslist.org/00M0M_i9CoFvVq8o...   \n",
       "\n",
       "                                         description county state        lat  \\\n",
       "0  $4,500 Cash  2002 BMW X5  8 cylinder 4.4L moto...    NaN    tx  32.401556   \n",
       "1  $4,500 Cash  2002 BMW X5  8 cylinder 4.4L moto...    NaN    tx  32.401556   \n",
       "2  2006 TOYOTA CAMRY LE Sedan   Ready To Upgrade ...    NaN    tx  32.453848   \n",
       "3  $6500.00 2008 Ford Expedition  8 cylinder 5.4L...    NaN    tx  32.401556   \n",
       "4  $6500.00 2008 Ford Expedition  8 cylinder 5.4L...    NaN    tx  32.401556   \n",
       "\n",
       "        long               posting_date               removal_date  \n",
       "0 -99.884713  2021-04-16 00:00:00+00:00  2021-05-02 00:00:00+00:00  \n",
       "1 -99.884713  2021-04-24 00:00:00+00:00  2021-04-28 00:00:00+00:00  \n",
       "2 -99.787900  2021-04-23 00:00:00+00:00  2021-05-25 00:00:00+00:00  \n",
       "3 -99.884713  2021-04-16 00:00:00+00:00  2021-04-26 00:00:00+00:00  \n",
       "4 -99.884713  2021-04-24 00:00:00+00:00  2021-05-12 00:00:00+00:00  \n",
       "\n",
       "[5 rows x 28 columns]"
      ]
     },
     "execution_count": 6,
     "metadata": {},
     "output_type": "execute_result"
    }
   ],
   "source": [
    "dataset.head()"
   ]
  },
  {
   "cell_type": "code",
   "execution_count": 7,
   "id": "1b1ee89a",
   "metadata": {
    "execution": {
     "iopub.execute_input": "2023-10-30T05:23:41.292580Z",
     "iopub.status.busy": "2023-10-30T05:23:41.292281Z",
     "iopub.status.idle": "2023-10-30T05:23:41.314754Z",
     "shell.execute_reply": "2023-10-30T05:23:41.313962Z"
    },
    "papermill": {
     "duration": 0.033801,
     "end_time": "2023-10-30T05:23:41.316899",
     "exception": false,
     "start_time": "2023-10-30T05:23:41.283098",
     "status": "completed"
    },
    "tags": []
   },
   "outputs": [
    {
     "data": {
      "text/html": [
       "<div>\n",
       "<style scoped>\n",
       "    .dataframe tbody tr th:only-of-type {\n",
       "        vertical-align: middle;\n",
       "    }\n",
       "\n",
       "    .dataframe tbody tr th {\n",
       "        vertical-align: top;\n",
       "    }\n",
       "\n",
       "    .dataframe thead th {\n",
       "        text-align: right;\n",
       "    }\n",
       "</style>\n",
       "<table border=\"1\" class=\"dataframe\">\n",
       "  <thead>\n",
       "    <tr style=\"text-align: right;\">\n",
       "      <th></th>\n",
       "      <th>Unnamed: 0</th>\n",
       "      <th>id</th>\n",
       "      <th>url</th>\n",
       "      <th>region</th>\n",
       "      <th>region_url</th>\n",
       "      <th>price</th>\n",
       "      <th>year</th>\n",
       "      <th>manufacturer</th>\n",
       "      <th>model</th>\n",
       "      <th>condition</th>\n",
       "      <th>...</th>\n",
       "      <th>type</th>\n",
       "      <th>paint_color</th>\n",
       "      <th>image_url</th>\n",
       "      <th>description</th>\n",
       "      <th>county</th>\n",
       "      <th>state</th>\n",
       "      <th>lat</th>\n",
       "      <th>long</th>\n",
       "      <th>posting_date</th>\n",
       "      <th>removal_date</th>\n",
       "    </tr>\n",
       "  </thead>\n",
       "  <tbody>\n",
       "    <tr>\n",
       "      <th>426875</th>\n",
       "      <td>303849</td>\n",
       "      <td>7307070484</td>\n",
       "      <td>https://zanesville.craigslist.org/cto/d/zanesv...</td>\n",
       "      <td>zanesville / cambridge</td>\n",
       "      <td>https://zanesville.craigslist.org</td>\n",
       "      <td>5100</td>\n",
       "      <td>2009.0</td>\n",
       "      <td>NaN</td>\n",
       "      <td>saab 9-7x</td>\n",
       "      <td>fair</td>\n",
       "      <td>...</td>\n",
       "      <td>SUV</td>\n",
       "      <td>grey</td>\n",
       "      <td>https://images.craigslist.org/00b0b_dsIhheG86S...</td>\n",
       "      <td>For sale: 2009 Saab 9-7x Fair condition  AWD  ...</td>\n",
       "      <td>NaN</td>\n",
       "      <td>oh</td>\n",
       "      <td>39.937000</td>\n",
       "      <td>-82.031500</td>\n",
       "      <td>2021-04-15 00:00:00+00:00</td>\n",
       "      <td>2021-04-21 00:00:00+00:00</td>\n",
       "    </tr>\n",
       "    <tr>\n",
       "      <th>426876</th>\n",
       "      <td>303706</td>\n",
       "      <td>7314635557</td>\n",
       "      <td>https://zanesville.craigslist.org/cto/d/zanesv...</td>\n",
       "      <td>zanesville / cambridge</td>\n",
       "      <td>https://zanesville.craigslist.org</td>\n",
       "      <td>7500</td>\n",
       "      <td>2011.0</td>\n",
       "      <td>ford</td>\n",
       "      <td>f-450</td>\n",
       "      <td>good</td>\n",
       "      <td>...</td>\n",
       "      <td>bus</td>\n",
       "      <td>red</td>\n",
       "      <td>https://images.craigslist.org/00b0b_8lBfNkZ6pr...</td>\n",
       "      <td>2011 E-Ford 450 with 177k miles, 6.8 liter v-1...</td>\n",
       "      <td>NaN</td>\n",
       "      <td>oh</td>\n",
       "      <td>39.927400</td>\n",
       "      <td>-82.004100</td>\n",
       "      <td>2021-04-30 00:00:00+00:00</td>\n",
       "      <td>2021-05-15 00:00:00+00:00</td>\n",
       "    </tr>\n",
       "    <tr>\n",
       "      <th>426877</th>\n",
       "      <td>303704</td>\n",
       "      <td>7314710341</td>\n",
       "      <td>https://zanesville.craigslist.org/cto/d/zanesv...</td>\n",
       "      <td>zanesville / cambridge</td>\n",
       "      <td>https://zanesville.craigslist.org</td>\n",
       "      <td>25000</td>\n",
       "      <td>2016.0</td>\n",
       "      <td>chevrolet</td>\n",
       "      <td>silverado</td>\n",
       "      <td>excellent</td>\n",
       "      <td>...</td>\n",
       "      <td>truck</td>\n",
       "      <td>blue</td>\n",
       "      <td>https://images.craigslist.org/00k0k_jw0Pda6LTk...</td>\n",
       "      <td>2013 Silverado excellent condition. Blue in co...</td>\n",
       "      <td>NaN</td>\n",
       "      <td>oh</td>\n",
       "      <td>39.896865</td>\n",
       "      <td>-82.042283</td>\n",
       "      <td>2021-04-30 00:00:00+00:00</td>\n",
       "      <td>2021-05-12 00:00:00+00:00</td>\n",
       "    </tr>\n",
       "    <tr>\n",
       "      <th>426878</th>\n",
       "      <td>303670</td>\n",
       "      <td>7316225330</td>\n",
       "      <td>https://zanesville.craigslist.org/cto/d/zanesv...</td>\n",
       "      <td>zanesville / cambridge</td>\n",
       "      <td>https://zanesville.craigslist.org</td>\n",
       "      <td>6</td>\n",
       "      <td>1986.0</td>\n",
       "      <td>NaN</td>\n",
       "      <td>camaro iroc z28</td>\n",
       "      <td>good</td>\n",
       "      <td>...</td>\n",
       "      <td>NaN</td>\n",
       "      <td>red</td>\n",
       "      <td>https://images.craigslist.org/00Y0Y_avlrYDn7OY...</td>\n",
       "      <td>1986 Iroc Z28 , T-tops , 86,500 miles , has ne...</td>\n",
       "      <td>NaN</td>\n",
       "      <td>oh</td>\n",
       "      <td>39.938630</td>\n",
       "      <td>-82.006760</td>\n",
       "      <td>2021-05-03 00:00:00+00:00</td>\n",
       "      <td>2021-05-08 00:00:00+00:00</td>\n",
       "    </tr>\n",
       "    <tr>\n",
       "      <th>426879</th>\n",
       "      <td>303836</td>\n",
       "      <td>7308192431</td>\n",
       "      <td>https://zanesville.craigslist.org/cto/d/zanesv...</td>\n",
       "      <td>zanesville / cambridge</td>\n",
       "      <td>https://zanesville.craigslist.org</td>\n",
       "      <td>9795</td>\n",
       "      <td>1999.0</td>\n",
       "      <td>dodge</td>\n",
       "      <td>durango</td>\n",
       "      <td>like new</td>\n",
       "      <td>...</td>\n",
       "      <td>SUV</td>\n",
       "      <td>silver</td>\n",
       "      <td>https://images.craigslist.org/00J0J_fbgDQsCgfB...</td>\n",
       "      <td>FOR SALE LIKE NEW 1999 DODGE DURANGO, LOADED W...</td>\n",
       "      <td>NaN</td>\n",
       "      <td>oh</td>\n",
       "      <td>39.998337</td>\n",
       "      <td>-82.022885</td>\n",
       "      <td>2021-04-17 00:00:00+00:00</td>\n",
       "      <td>2021-05-09 00:00:00+00:00</td>\n",
       "    </tr>\n",
       "  </tbody>\n",
       "</table>\n",
       "<p>5 rows × 28 columns</p>\n",
       "</div>"
      ],
      "text/plain": [
       "        Unnamed: 0          id  \\\n",
       "426875      303849  7307070484   \n",
       "426876      303706  7314635557   \n",
       "426877      303704  7314710341   \n",
       "426878      303670  7316225330   \n",
       "426879      303836  7308192431   \n",
       "\n",
       "                                                      url  \\\n",
       "426875  https://zanesville.craigslist.org/cto/d/zanesv...   \n",
       "426876  https://zanesville.craigslist.org/cto/d/zanesv...   \n",
       "426877  https://zanesville.craigslist.org/cto/d/zanesv...   \n",
       "426878  https://zanesville.craigslist.org/cto/d/zanesv...   \n",
       "426879  https://zanesville.craigslist.org/cto/d/zanesv...   \n",
       "\n",
       "                        region                         region_url  price  \\\n",
       "426875  zanesville / cambridge  https://zanesville.craigslist.org   5100   \n",
       "426876  zanesville / cambridge  https://zanesville.craigslist.org   7500   \n",
       "426877  zanesville / cambridge  https://zanesville.craigslist.org  25000   \n",
       "426878  zanesville / cambridge  https://zanesville.craigslist.org      6   \n",
       "426879  zanesville / cambridge  https://zanesville.craigslist.org   9795   \n",
       "\n",
       "          year manufacturer            model  condition  ...   type  \\\n",
       "426875  2009.0          NaN        saab 9-7x       fair  ...    SUV   \n",
       "426876  2011.0         ford            f-450       good  ...    bus   \n",
       "426877  2016.0    chevrolet        silverado  excellent  ...  truck   \n",
       "426878  1986.0          NaN  camaro iroc z28       good  ...    NaN   \n",
       "426879  1999.0        dodge          durango   like new  ...    SUV   \n",
       "\n",
       "       paint_color                                          image_url  \\\n",
       "426875        grey  https://images.craigslist.org/00b0b_dsIhheG86S...   \n",
       "426876         red  https://images.craigslist.org/00b0b_8lBfNkZ6pr...   \n",
       "426877        blue  https://images.craigslist.org/00k0k_jw0Pda6LTk...   \n",
       "426878         red  https://images.craigslist.org/00Y0Y_avlrYDn7OY...   \n",
       "426879      silver  https://images.craigslist.org/00J0J_fbgDQsCgfB...   \n",
       "\n",
       "                                              description county state  \\\n",
       "426875  For sale: 2009 Saab 9-7x Fair condition  AWD  ...    NaN    oh   \n",
       "426876  2011 E-Ford 450 with 177k miles, 6.8 liter v-1...    NaN    oh   \n",
       "426877  2013 Silverado excellent condition. Blue in co...    NaN    oh   \n",
       "426878  1986 Iroc Z28 , T-tops , 86,500 miles , has ne...    NaN    oh   \n",
       "426879  FOR SALE LIKE NEW 1999 DODGE DURANGO, LOADED W...    NaN    oh   \n",
       "\n",
       "              lat       long               posting_date  \\\n",
       "426875  39.937000 -82.031500  2021-04-15 00:00:00+00:00   \n",
       "426876  39.927400 -82.004100  2021-04-30 00:00:00+00:00   \n",
       "426877  39.896865 -82.042283  2021-04-30 00:00:00+00:00   \n",
       "426878  39.938630 -82.006760  2021-05-03 00:00:00+00:00   \n",
       "426879  39.998337 -82.022885  2021-04-17 00:00:00+00:00   \n",
       "\n",
       "                     removal_date  \n",
       "426875  2021-04-21 00:00:00+00:00  \n",
       "426876  2021-05-15 00:00:00+00:00  \n",
       "426877  2021-05-12 00:00:00+00:00  \n",
       "426878  2021-05-08 00:00:00+00:00  \n",
       "426879  2021-05-09 00:00:00+00:00  \n",
       "\n",
       "[5 rows x 28 columns]"
      ]
     },
     "execution_count": 7,
     "metadata": {},
     "output_type": "execute_result"
    }
   ],
   "source": [
    "dataset.tail()"
   ]
  },
  {
   "cell_type": "code",
   "execution_count": 8,
   "id": "2f133d42",
   "metadata": {
    "execution": {
     "iopub.execute_input": "2023-10-30T05:23:41.334552Z",
     "iopub.status.busy": "2023-10-30T05:23:41.334311Z",
     "iopub.status.idle": "2023-10-30T05:23:41.339999Z",
     "shell.execute_reply": "2023-10-30T05:23:41.339188Z"
    },
    "papermill": {
     "duration": 0.016481,
     "end_time": "2023-10-30T05:23:41.341839",
     "exception": false,
     "start_time": "2023-10-30T05:23:41.325358",
     "status": "completed"
    },
    "tags": []
   },
   "outputs": [
    {
     "data": {
      "text/plain": [
       "'2021-04-16 00:00:00+00:00'"
      ]
     },
     "execution_count": 8,
     "metadata": {},
     "output_type": "execute_result"
    }
   ],
   "source": [
    "dataset.loc[0,'posting_date']\n"
   ]
  },
  {
   "cell_type": "code",
   "execution_count": null,
   "id": "cfb2a318",
   "metadata": {
    "papermill": {
     "duration": 0.008387,
     "end_time": "2023-10-30T05:23:41.358598",
     "exception": false,
     "start_time": "2023-10-30T05:23:41.350211",
     "status": "completed"
    },
    "tags": []
   },
   "outputs": [],
   "source": [
    "\n"
   ]
  },
  {
   "cell_type": "code",
   "execution_count": 9,
   "id": "10038d34",
   "metadata": {
    "execution": {
     "iopub.execute_input": "2023-10-30T05:23:41.376419Z",
     "iopub.status.busy": "2023-10-30T05:23:41.376152Z",
     "iopub.status.idle": "2023-10-30T05:23:41.381427Z",
     "shell.execute_reply": "2023-10-30T05:23:41.380638Z"
    },
    "papermill": {
     "duration": 0.016415,
     "end_time": "2023-10-30T05:23:41.383274",
     "exception": false,
     "start_time": "2023-10-30T05:23:41.366859",
     "status": "completed"
    },
    "tags": []
   },
   "outputs": [
    {
     "data": {
      "text/plain": [
       "pandas.core.frame.DataFrame"
      ]
     },
     "execution_count": 9,
     "metadata": {},
     "output_type": "execute_result"
    }
   ],
   "source": [
    "#the dataframe has been transformed to datetime\n",
    "type(dataset)"
   ]
  },
  {
   "cell_type": "code",
   "execution_count": 10,
   "id": "e74e7432",
   "metadata": {
    "execution": {
     "iopub.execute_input": "2023-10-30T05:23:41.401497Z",
     "iopub.status.busy": "2023-10-30T05:23:41.401230Z",
     "iopub.status.idle": "2023-10-30T05:23:41.406609Z",
     "shell.execute_reply": "2023-10-30T05:23:41.405752Z"
    },
    "papermill": {
     "duration": 0.016605,
     "end_time": "2023-10-30T05:23:41.408455",
     "exception": false,
     "start_time": "2023-10-30T05:23:41.391850",
     "status": "completed"
    },
    "tags": []
   },
   "outputs": [
    {
     "data": {
      "text/plain": [
       "pandas.core.frame.DataFrame"
      ]
     },
     "execution_count": 10,
     "metadata": {},
     "output_type": "execute_result"
    }
   ],
   "source": [
    "type(dataset)"
   ]
  },
  {
   "cell_type": "code",
   "execution_count": 11,
   "id": "60ecd4f4",
   "metadata": {
    "execution": {
     "iopub.execute_input": "2023-10-30T05:23:41.427277Z",
     "iopub.status.busy": "2023-10-30T05:23:41.426678Z",
     "iopub.status.idle": "2023-10-30T05:23:41.432487Z",
     "shell.execute_reply": "2023-10-30T05:23:41.431672Z"
    },
    "papermill": {
     "duration": 0.017482,
     "end_time": "2023-10-30T05:23:41.434466",
     "exception": false,
     "start_time": "2023-10-30T05:23:41.416984",
     "status": "completed"
    },
    "tags": []
   },
   "outputs": [
    {
     "data": {
      "text/plain": [
       "Index(['Unnamed: 0', 'id', 'url', 'region', 'region_url', 'price', 'year',\n",
       "       'manufacturer', 'model', 'condition', 'cylinders', 'fuel', 'odometer',\n",
       "       'title_status', 'transmission', 'VIN', 'drive', 'size', 'type',\n",
       "       'paint_color', 'image_url', 'description', 'county', 'state', 'lat',\n",
       "       'long', 'posting_date', 'removal_date'],\n",
       "      dtype='object')"
      ]
     },
     "execution_count": 11,
     "metadata": {},
     "output_type": "execute_result"
    }
   ],
   "source": [
    "dataset.columns"
   ]
  },
  {
   "cell_type": "code",
   "execution_count": 12,
   "id": "c09a0887",
   "metadata": {
    "execution": {
     "iopub.execute_input": "2023-10-30T05:23:41.453650Z",
     "iopub.status.busy": "2023-10-30T05:23:41.452887Z",
     "iopub.status.idle": "2023-10-30T05:23:41.543191Z",
     "shell.execute_reply": "2023-10-30T05:23:41.542315Z"
    },
    "papermill": {
     "duration": 0.102079,
     "end_time": "2023-10-30T05:23:41.545263",
     "exception": false,
     "start_time": "2023-10-30T05:23:41.443184",
     "status": "completed"
    },
    "tags": []
   },
   "outputs": [
    {
     "data": {
      "text/plain": [
       "Index(['Unnamed: 0', 'id', 'region', 'price', 'year', 'manufacturer', 'model',\n",
       "       'condition', 'cylinders', 'fuel', 'odometer', 'title_status',\n",
       "       'transmission', 'drive', 'size', 'type', 'paint_color', 'description',\n",
       "       'county', 'state', 'posting_date'],\n",
       "      dtype='object')"
      ]
     },
     "execution_count": 12,
     "metadata": {},
     "output_type": "execute_result"
    }
   ],
   "source": [
    "#columns to drop\n",
    "columns_drop=['Unnamed:0','url','region_url','VIN','image_url','removal_date','lat','long']\n",
    "#dropping only the columns existing in the dataframe\n",
    "columns_existing=[i for i in columns_drop if i in dataset.columns]\n",
    "#dropping the columns\n",
    "dataset=dataset.drop(columns=columns_existing)\n",
    "\n",
    "\n",
    "dataset.columns\n"
   ]
  },
  {
   "cell_type": "code",
   "execution_count": 13,
   "id": "ad2a5a47",
   "metadata": {
    "execution": {
     "iopub.execute_input": "2023-10-30T05:23:41.564531Z",
     "iopub.status.busy": "2023-10-30T05:23:41.564235Z",
     "iopub.status.idle": "2023-10-30T05:23:41.571225Z",
     "shell.execute_reply": "2023-10-30T05:23:41.570375Z"
    },
    "papermill": {
     "duration": 0.018748,
     "end_time": "2023-10-30T05:23:41.573095",
     "exception": false,
     "start_time": "2023-10-30T05:23:41.554347",
     "status": "completed"
    },
    "tags": []
   },
   "outputs": [
    {
     "data": {
      "text/plain": [
       "Unnamed: 0        int64\n",
       "id                int64\n",
       "region           object\n",
       "price             int64\n",
       "year            float64\n",
       "manufacturer     object\n",
       "model            object\n",
       "condition        object\n",
       "cylinders        object\n",
       "fuel             object\n",
       "odometer        float64\n",
       "title_status     object\n",
       "transmission     object\n",
       "drive            object\n",
       "size             object\n",
       "type             object\n",
       "paint_color      object\n",
       "description      object\n",
       "county          float64\n",
       "state            object\n",
       "posting_date     object\n",
       "dtype: object"
      ]
     },
     "execution_count": 13,
     "metadata": {},
     "output_type": "execute_result"
    }
   ],
   "source": [
    "dataset.dtypes"
   ]
  },
  {
   "cell_type": "code",
   "execution_count": 14,
   "id": "03e9cad9",
   "metadata": {
    "execution": {
     "iopub.execute_input": "2023-10-30T05:23:41.592575Z",
     "iopub.status.busy": "2023-10-30T05:23:41.591823Z",
     "iopub.status.idle": "2023-10-30T05:23:42.157067Z",
     "shell.execute_reply": "2023-10-30T05:23:42.156084Z"
    },
    "papermill": {
     "duration": 0.577044,
     "end_time": "2023-10-30T05:23:42.159139",
     "exception": false,
     "start_time": "2023-10-30T05:23:41.582095",
     "status": "completed"
    },
    "tags": []
   },
   "outputs": [
    {
     "data": {
      "text/plain": [
       "Unnamed: 0           0\n",
       "id                   0\n",
       "region               0\n",
       "price                0\n",
       "year              1205\n",
       "manufacturer     17646\n",
       "model             5277\n",
       "condition       174104\n",
       "cylinders       177678\n",
       "fuel              3013\n",
       "odometer          4400\n",
       "title_status      8242\n",
       "transmission      2556\n",
       "drive           130567\n",
       "size            306361\n",
       "type             92858\n",
       "paint_color     130203\n",
       "description         70\n",
       "county          426880\n",
       "state                0\n",
       "posting_date        68\n",
       "dtype: int64"
      ]
     },
     "execution_count": 14,
     "metadata": {},
     "output_type": "execute_result"
    }
   ],
   "source": [
    "#checking missing values\n",
    "dataset.isnull().sum()"
   ]
  },
  {
   "cell_type": "code",
   "execution_count": 15,
   "id": "175aa75f",
   "metadata": {
    "execution": {
     "iopub.execute_input": "2023-10-30T05:23:42.178884Z",
     "iopub.status.busy": "2023-10-30T05:23:42.178590Z",
     "iopub.status.idle": "2023-10-30T05:23:42.873833Z",
     "shell.execute_reply": "2023-10-30T05:23:42.873007Z"
    },
    "papermill": {
     "duration": 0.707926,
     "end_time": "2023-10-30T05:23:42.876412",
     "exception": false,
     "start_time": "2023-10-30T05:23:42.168486",
     "status": "completed"
    },
    "tags": []
   },
   "outputs": [],
   "source": [
    "import pandas as pd\n",
    "\n",
    "def missing_values_handling(dataset):\n",
    "    # Handling numerical data\n",
    "    numeric_data = ['year', 'odometer']\n",
    "    dataset[numeric_data] = dataset[numeric_data].fillna(dataset[numeric_data].median())\n",
    "\n",
    "    # Handling categorical data\n",
    "    categorical_data = ['manufacturer', 'model', 'condition', 'cylinders', 'fuel', 'title_status', 'transmission', 'drive', 'size', 'type', 'paint_color', 'description', 'county', 'posting_date']\n",
    "    for column in categorical_data:\n",
    "        dataset[column] = dataset[column].fillna('Unknown')  # Replace with 'Unknown' or another appropriate value\n",
    "\n",
    "    return dataset\n",
    "\n",
    "# Example usage\n",
    "dataset = pd.DataFrame(dataset)  # Replace with your dataset\n",
    "dataset = missing_values_handling(dataset)\n"
   ]
  },
  {
   "cell_type": "code",
   "execution_count": 16,
   "id": "944b4354",
   "metadata": {
    "execution": {
     "iopub.execute_input": "2023-10-30T05:23:42.897562Z",
     "iopub.status.busy": "2023-10-30T05:23:42.897249Z",
     "iopub.status.idle": "2023-10-30T05:23:43.539873Z",
     "shell.execute_reply": "2023-10-30T05:23:43.538900Z"
    },
    "papermill": {
     "duration": 0.655473,
     "end_time": "2023-10-30T05:23:43.541953",
     "exception": false,
     "start_time": "2023-10-30T05:23:42.886480",
     "status": "completed"
    },
    "tags": []
   },
   "outputs": [
    {
     "data": {
      "text/plain": [
       "Unnamed: 0      0\n",
       "id              0\n",
       "region          0\n",
       "price           0\n",
       "year            0\n",
       "manufacturer    0\n",
       "model           0\n",
       "condition       0\n",
       "cylinders       0\n",
       "fuel            0\n",
       "odometer        0\n",
       "title_status    0\n",
       "transmission    0\n",
       "drive           0\n",
       "size            0\n",
       "type            0\n",
       "paint_color     0\n",
       "description     0\n",
       "county          0\n",
       "state           0\n",
       "posting_date    0\n",
       "dtype: int64"
      ]
     },
     "execution_count": 16,
     "metadata": {},
     "output_type": "execute_result"
    }
   ],
   "source": [
    "#The dataset has no null values\n",
    "dataset.isnull().sum()"
   ]
  },
  {
   "cell_type": "code",
   "execution_count": 17,
   "id": "5ec98b70",
   "metadata": {
    "execution": {
     "iopub.execute_input": "2023-10-30T05:23:43.562572Z",
     "iopub.status.busy": "2023-10-30T05:23:43.562286Z",
     "iopub.status.idle": "2023-10-30T05:23:43.650016Z",
     "shell.execute_reply": "2023-10-30T05:23:43.649074Z"
    },
    "papermill": {
     "duration": 0.100276,
     "end_time": "2023-10-30T05:23:43.651978",
     "exception": false,
     "start_time": "2023-10-30T05:23:43.551702",
     "status": "completed"
    },
    "tags": []
   },
   "outputs": [
    {
     "data": {
      "text/html": [
       "<div>\n",
       "<style scoped>\n",
       "    .dataframe tbody tr th:only-of-type {\n",
       "        vertical-align: middle;\n",
       "    }\n",
       "\n",
       "    .dataframe tbody tr th {\n",
       "        vertical-align: top;\n",
       "    }\n",
       "\n",
       "    .dataframe thead th {\n",
       "        text-align: right;\n",
       "    }\n",
       "</style>\n",
       "<table border=\"1\" class=\"dataframe\">\n",
       "  <thead>\n",
       "    <tr style=\"text-align: right;\">\n",
       "      <th></th>\n",
       "      <th>Unnamed: 0</th>\n",
       "      <th>id</th>\n",
       "      <th>price</th>\n",
       "      <th>year</th>\n",
       "      <th>odometer</th>\n",
       "    </tr>\n",
       "  </thead>\n",
       "  <tbody>\n",
       "    <tr>\n",
       "      <th>count</th>\n",
       "      <td>426880.000000</td>\n",
       "      <td>4.268800e+05</td>\n",
       "      <td>4.268800e+05</td>\n",
       "      <td>426880.000000</td>\n",
       "      <td>4.268800e+05</td>\n",
       "    </tr>\n",
       "    <tr>\n",
       "      <th>mean</th>\n",
       "      <td>213439.500000</td>\n",
       "      <td>7.311487e+09</td>\n",
       "      <td>7.519903e+04</td>\n",
       "      <td>2011.240173</td>\n",
       "      <td>9.791454e+04</td>\n",
       "    </tr>\n",
       "    <tr>\n",
       "      <th>std</th>\n",
       "      <td>123229.785793</td>\n",
       "      <td>4.473170e+06</td>\n",
       "      <td>1.218228e+07</td>\n",
       "      <td>9.439234</td>\n",
       "      <td>2.127801e+05</td>\n",
       "    </tr>\n",
       "    <tr>\n",
       "      <th>min</th>\n",
       "      <td>0.000000</td>\n",
       "      <td>7.207408e+09</td>\n",
       "      <td>0.000000e+00</td>\n",
       "      <td>1900.000000</td>\n",
       "      <td>0.000000e+00</td>\n",
       "    </tr>\n",
       "    <tr>\n",
       "      <th>25%</th>\n",
       "      <td>106719.750000</td>\n",
       "      <td>7.308143e+09</td>\n",
       "      <td>5.900000e+03</td>\n",
       "      <td>2008.000000</td>\n",
       "      <td>3.813000e+04</td>\n",
       "    </tr>\n",
       "    <tr>\n",
       "      <th>50%</th>\n",
       "      <td>213439.500000</td>\n",
       "      <td>7.312621e+09</td>\n",
       "      <td>1.395000e+04</td>\n",
       "      <td>2013.000000</td>\n",
       "      <td>8.554800e+04</td>\n",
       "    </tr>\n",
       "    <tr>\n",
       "      <th>75%</th>\n",
       "      <td>320159.250000</td>\n",
       "      <td>7.315254e+09</td>\n",
       "      <td>2.648575e+04</td>\n",
       "      <td>2017.000000</td>\n",
       "      <td>1.330000e+05</td>\n",
       "    </tr>\n",
       "    <tr>\n",
       "      <th>max</th>\n",
       "      <td>426879.000000</td>\n",
       "      <td>7.317101e+09</td>\n",
       "      <td>3.736929e+09</td>\n",
       "      <td>2022.000000</td>\n",
       "      <td>1.000000e+07</td>\n",
       "    </tr>\n",
       "  </tbody>\n",
       "</table>\n",
       "</div>"
      ],
      "text/plain": [
       "          Unnamed: 0            id         price           year      odometer\n",
       "count  426880.000000  4.268800e+05  4.268800e+05  426880.000000  4.268800e+05\n",
       "mean   213439.500000  7.311487e+09  7.519903e+04    2011.240173  9.791454e+04\n",
       "std    123229.785793  4.473170e+06  1.218228e+07       9.439234  2.127801e+05\n",
       "min         0.000000  7.207408e+09  0.000000e+00    1900.000000  0.000000e+00\n",
       "25%    106719.750000  7.308143e+09  5.900000e+03    2008.000000  3.813000e+04\n",
       "50%    213439.500000  7.312621e+09  1.395000e+04    2013.000000  8.554800e+04\n",
       "75%    320159.250000  7.315254e+09  2.648575e+04    2017.000000  1.330000e+05\n",
       "max    426879.000000  7.317101e+09  3.736929e+09    2022.000000  1.000000e+07"
      ]
     },
     "execution_count": 17,
     "metadata": {},
     "output_type": "execute_result"
    }
   ],
   "source": [
    "dataset.describe()"
   ]
  },
  {
   "cell_type": "code",
   "execution_count": 18,
   "id": "6ec4ed38",
   "metadata": {
    "execution": {
     "iopub.execute_input": "2023-10-30T05:23:43.672472Z",
     "iopub.status.busy": "2023-10-30T05:23:43.672184Z",
     "iopub.status.idle": "2023-10-30T05:23:43.678003Z",
     "shell.execute_reply": "2023-10-30T05:23:43.677174Z"
    },
    "papermill": {
     "duration": 0.018149,
     "end_time": "2023-10-30T05:23:43.679914",
     "exception": false,
     "start_time": "2023-10-30T05:23:43.661765",
     "status": "completed"
    },
    "tags": []
   },
   "outputs": [
    {
     "data": {
      "text/plain": [
       "Index(['Unnamed: 0', 'id', 'region', 'price', 'year', 'manufacturer', 'model',\n",
       "       'condition', 'cylinders', 'fuel', 'odometer', 'title_status',\n",
       "       'transmission', 'drive', 'size', 'type', 'paint_color', 'description',\n",
       "       'county', 'state', 'posting_date'],\n",
       "      dtype='object')"
      ]
     },
     "execution_count": 18,
     "metadata": {},
     "output_type": "execute_result"
    }
   ],
   "source": [
    "dataset.columns"
   ]
  },
  {
   "cell_type": "code",
   "execution_count": 19,
   "id": "f57f02c9",
   "metadata": {
    "execution": {
     "iopub.execute_input": "2023-10-30T05:23:43.700771Z",
     "iopub.status.busy": "2023-10-30T05:23:43.700482Z",
     "iopub.status.idle": "2023-10-30T05:23:43.800019Z",
     "shell.execute_reply": "2023-10-30T05:23:43.799076Z"
    },
    "papermill": {
     "duration": 0.112222,
     "end_time": "2023-10-30T05:23:43.802199",
     "exception": false,
     "start_time": "2023-10-30T05:23:43.689977",
     "status": "completed"
    },
    "tags": []
   },
   "outputs": [],
   "source": [
    "dataset['posting_date'] = pd.to_datetime(dataset['posting_date'], format='%Y-%m-%d %H:%M:%S%z', errors='coerce')\n"
   ]
  },
  {
   "cell_type": "code",
   "execution_count": 20,
   "id": "22a2ee0f",
   "metadata": {
    "execution": {
     "iopub.execute_input": "2023-10-30T05:23:43.823079Z",
     "iopub.status.busy": "2023-10-30T05:23:43.822759Z",
     "iopub.status.idle": "2023-10-30T05:23:43.827951Z",
     "shell.execute_reply": "2023-10-30T05:23:43.827067Z"
    },
    "papermill": {
     "duration": 0.01787,
     "end_time": "2023-10-30T05:23:43.829981",
     "exception": false,
     "start_time": "2023-10-30T05:23:43.812111",
     "status": "completed"
    },
    "tags": []
   },
   "outputs": [],
   "source": [
    "dataset.set_index('posting_date', inplace=True)"
   ]
  },
  {
   "cell_type": "code",
   "execution_count": 21,
   "id": "f735f06e",
   "metadata": {
    "execution": {
     "iopub.execute_input": "2023-10-30T05:23:43.852750Z",
     "iopub.status.busy": "2023-10-30T05:23:43.852001Z",
     "iopub.status.idle": "2023-10-30T05:23:43.858233Z",
     "shell.execute_reply": "2023-10-30T05:23:43.857410Z"
    },
    "papermill": {
     "duration": 0.019505,
     "end_time": "2023-10-30T05:23:43.860237",
     "exception": false,
     "start_time": "2023-10-30T05:23:43.840732",
     "status": "completed"
    },
    "tags": []
   },
   "outputs": [
    {
     "data": {
      "text/plain": [
       "pandas.core.frame.DataFrame"
      ]
     },
     "execution_count": 21,
     "metadata": {},
     "output_type": "execute_result"
    }
   ],
   "source": [
    "type(dataset)"
   ]
  },
  {
   "cell_type": "code",
   "execution_count": 22,
   "id": "0b6f81f9",
   "metadata": {
    "execution": {
     "iopub.execute_input": "2023-10-30T05:23:43.882697Z",
     "iopub.status.busy": "2023-10-30T05:23:43.882402Z",
     "iopub.status.idle": "2023-10-30T05:24:45.480381Z",
     "shell.execute_reply": "2023-10-30T05:24:45.479333Z"
    },
    "papermill": {
     "duration": 61.6118,
     "end_time": "2023-10-30T05:24:45.482642",
     "exception": false,
     "start_time": "2023-10-30T05:23:43.870842",
     "status": "completed"
    },
    "tags": []
   },
   "outputs": [
    {
     "data": {
      "text/plain": [
       "<Axes: xlabel='posting_date'>"
      ]
     },
     "execution_count": 22,
     "metadata": {},
     "output_type": "execute_result"
    },
    {
     "data": {
      "image/png": "[encoded data removed]",
      "text/plain": [
       "<Figure size 640x480 with 1 Axes>"
      ]
     },
     "metadata": {},
     "output_type": "display_data"
    }
   ],
   "source": [
    "#plotting the dataset\n",
    "dataset.plot(style='k.')"
   ]
  },
  {
   "cell_type": "code",
   "execution_count": 23,
   "id": "7b8e588c",
   "metadata": {
    "execution": {
     "iopub.execute_input": "2023-10-30T05:24:45.505372Z",
     "iopub.status.busy": "2023-10-30T05:24:45.505051Z",
     "iopub.status.idle": "2023-10-30T05:24:45.510681Z",
     "shell.execute_reply": "2023-10-30T05:24:45.509798Z"
    },
    "papermill": {
     "duration": 0.018933,
     "end_time": "2023-10-30T05:24:45.512622",
     "exception": false,
     "start_time": "2023-10-30T05:24:45.493689",
     "status": "completed"
    },
    "tags": []
   },
   "outputs": [
    {
     "data": {
      "text/plain": [
       "pandas.core.frame.DataFrame"
      ]
     },
     "execution_count": 23,
     "metadata": {},
     "output_type": "execute_result"
    }
   ],
   "source": [
    "type(dataset)"
   ]
  },
  {
   "cell_type": "code",
   "execution_count": 24,
   "id": "a3addb4a",
   "metadata": {
    "execution": {
     "iopub.execute_input": "2023-10-30T05:24:45.534566Z",
     "iopub.status.busy": "2023-10-30T05:24:45.534324Z",
     "iopub.status.idle": "2023-10-30T05:25:42.616731Z",
     "shell.execute_reply": "2023-10-30T05:25:42.615857Z"
    },
    "papermill": {
     "duration": 57.095691,
     "end_time": "2023-10-30T05:25:42.618661",
     "exception": false,
     "start_time": "2023-10-30T05:24:45.522970",
     "status": "completed"
    },
    "tags": []
   },
   "outputs": [
    {
     "data": {
      "text/plain": [
       "<Axes: xlabel='posting_date'>"
      ]
     },
     "execution_count": 24,
     "metadata": {},
     "output_type": "execute_result"
    },
    {
     "data": {
      "image/png": "[encoded data removed]",
      "text/plain": [
       "<Figure size 640x480 with 1 Axes>"
      ]
     },
     "metadata": {},
     "output_type": "display_data"
    }
   ],
   "source": [
    "dataset.plot()"
   ]
  }
 ],
 "metadata": {
  "kernelspec": {
   "display_name": "Python 3",
   "language": "python",
   "name": "python3"
  },
  "language_info": {
   "codemirror_mode": {
    "name": "ipython",
    "version": 3
   },
   "file_extension": ".py",
   "mimetype": "text/x-python",
   "name": "python",
   "nbconvert_exporter": "python",
   "pygments_lexer": "ipython3",
   "version": "3.10.12"
  },
  "papermill": {
   "default_parameters": {},
   "duration": 325.955956,
   "end_time": "2023-10-30T05:25:43.650800",
   "environment_variables": {},
   "exception": null,
   "input_path": "__notebook__.ipynb",
   "output_path": "__notebook__.ipynb",
   "parameters": {},
   "start_time": "2023-10-30T05:20:17.694844",
   "version": "2.4.0"
  }
 },
 "nbformat": 4,
 "nbformat_minor": 5
}
